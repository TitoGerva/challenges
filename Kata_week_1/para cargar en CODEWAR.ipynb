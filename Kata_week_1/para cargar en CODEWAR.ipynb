{
 "cells": [
  {
   "cell_type": "code",
   "execution_count": null,
   "id": "5adca593",
   "metadata": {},
   "outputs": [],
   "source": [
    "# LOCURA DE KATA"
   ]
  },
  {
   "cell_type": "code",
   "execution_count": 11,
   "id": "24cc5e78",
   "metadata": {},
   "outputs": [
    {
     "name": "stdout",
     "output_type": "stream",
     "text": [
      "Balanced\n",
      "Balanced\n",
      "Balanced\n",
      "Not Balanced\n"
     ]
    }
   ],
   "source": [
    "import sys as sis\n",
    "\n",
    "import math\n",
    "\n",
    "def balanced_num(number):\n",
    "\n",
    "    lista = [int(a) for a in str(number)]\n",
    "\n",
    "    digits = len(str(number))\n",
    "\n",
    "    def tipo_digito(digits):\n",
    "\n",
    "        if digits % 2 == 0:\n",
    "\n",
    "          return 1\n",
    "\n",
    "        else:\n",
    "\n",
    "          return 0\n",
    "\n",
    "\n",
    "\n",
    "    side_of_digits = math.ceil((digits / 2) - tipo_digito(digits))\n",
    "\n",
    "    left_side = sum(lista[0:side_of_digits])\n",
    "    \n",
    "    right_side= sum(lista[::-1][0:side_of_digits])\n",
    "\n",
    "    if left_side == right_side:\n",
    "        \n",
    "        return \"Balanced\"\n",
    "    \n",
    "    else:\n",
    "        \n",
    "        return \"Not Balanced\"\n",
    "\n",
    "\n",
    "print(balanced_num(13))\n",
    "\n",
    "print(balanced_num(959))\n",
    "\n",
    "print(balanced_num(56239814))\n",
    "\n",
    "print(balanced_num(1230987))"
   ]
  },
  {
   "cell_type": "code",
   "execution_count": null,
   "id": "0e638e49",
   "metadata": {},
   "outputs": [],
   "source": []
  }
 ],
 "metadata": {
  "kernelspec": {
   "display_name": "Python 3 (ipykernel)",
   "language": "python",
   "name": "python3"
  },
  "language_info": {
   "codemirror_mode": {
    "name": "ipython",
    "version": 3
   },
   "file_extension": ".py",
   "mimetype": "text/x-python",
   "name": "python",
   "nbconvert_exporter": "python",
   "pygments_lexer": "ipython3",
   "version": "3.7.11"
  }
 },
 "nbformat": 4,
 "nbformat_minor": 5
}
