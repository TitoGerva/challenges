{
 "cells": [
  {
   "cell_type": "code",
   "execution_count": 56,
   "id": "e4ab5671",
   "metadata": {},
   "outputs": [],
   "source": [
    "import sys as sis\n",
    "import math"
   ]
  },
  {
   "cell_type": "code",
   "execution_count": 57,
   "id": "d1513a40",
   "metadata": {},
   "outputs": [],
   "source": [
    "#field number over the code will show the solution#\n",
    "number = 432"
   ]
  },
  {
   "cell_type": "code",
   "execution_count": 58,
   "id": "dfb26b82",
   "metadata": {
    "scrolled": false
   },
   "outputs": [
    {
     "name": "stdout",
     "output_type": "stream",
     "text": [
      "[4, 3, 2]\n"
     ]
    }
   ],
   "source": [
    "#1. Split the number in digits to know how many digits are in the number#\n",
    "lista = [int(a) for a in str(number)]\n",
    "print (lista)"
   ]
  },
  {
   "cell_type": "code",
   "execution_count": 59,
   "id": "e44129c7",
   "metadata": {
    "scrolled": false
   },
   "outputs": [
    {
     "name": "stdout",
     "output_type": "stream",
     "text": [
      "3\n"
     ]
    }
   ],
   "source": [
    "#2. Counts number of digits in the original number#\n",
    "digits = len(str(number))\n",
    "print (digits)"
   ]
  },
  {
   "cell_type": "code",
   "execution_count": 60,
   "id": "78649ce6",
   "metadata": {
    "scrolled": true
   },
   "outputs": [
    {
     "data": {
      "text/plain": [
       "0"
      ]
     },
     "execution_count": 60,
     "metadata": {},
     "output_type": "execute_result"
    }
   ],
   "source": [
    "#3. Condition to define if the sum of the digits is even number = 1 or uneven number = 0#\n",
    "def tipo_digito (digits) :\n",
    "    if digits % 2 == 0:\n",
    "        return 1\n",
    "    else:\n",
    "        return 0\n",
    "tipo_digito (digits)"
   ]
  },
  {
   "cell_type": "code",
   "execution_count": 61,
   "id": "eaaa872b",
   "metadata": {},
   "outputs": [
    {
     "name": "stdout",
     "output_type": "stream",
     "text": [
      "2\n"
     ]
    }
   ],
   "source": [
    "#4. Find Out how many digits the code must sum from left side and right side#\n",
    "side_of_digits = math.ceil((digits / 2) - tipo_digito(digits))\n",
    "print (side_of_digits)"
   ]
  },
  {
   "cell_type": "code",
   "execution_count": 62,
   "id": "298aab0d",
   "metadata": {},
   "outputs": [
    {
     "name": "stdout",
     "output_type": "stream",
     "text": [
      "7\n"
     ]
    }
   ],
   "source": [
    "#5. Sum of the digits from the beginning until digit in the middle#\n",
    "left_side = sum(lista[0:side_of_digits])\n",
    "print (left_side)"
   ]
  },
  {
   "cell_type": "code",
   "execution_count": 63,
   "id": "05fd74bf",
   "metadata": {},
   "outputs": [
    {
     "name": "stdout",
     "output_type": "stream",
     "text": [
      "5\n"
     ]
    }
   ],
   "source": [
    "#6. Sum of the digits from end until digit in the middle#\n",
    "right_side= sum(lista[::-1][0:side_of_digits])\n",
    "print (right_side)"
   ]
  },
  {
   "cell_type": "code",
   "execution_count": 64,
   "id": "67cecfe6",
   "metadata": {},
   "outputs": [
    {
     "name": "stdout",
     "output_type": "stream",
     "text": [
      "Not Balanced\n"
     ]
    }
   ],
   "source": [
    "#7. Check condition if the sum of left side vs right side is equal (Balanced) or not (Not Balanced)\n",
    "def balanced_num(number):\n",
    "    if left_side == right_side:\n",
    "        return \"Balanced\"\n",
    "    else:\n",
    "        return \"Not Balanced\"\n",
    "\n",
    "print (balanced_num(number))"
   ]
  },
  {
   "cell_type": "code",
   "execution_count": null,
   "id": "0a171a8a",
   "metadata": {},
   "outputs": [],
   "source": []
  }
 ],
 "metadata": {
  "kernelspec": {
   "display_name": "Python 3",
   "language": "python",
   "name": "python3"
  },
  "language_info": {
   "codemirror_mode": {
    "name": "ipython",
    "version": 3
   },
   "file_extension": ".py",
   "mimetype": "text/x-python",
   "name": "python",
   "nbconvert_exporter": "python",
   "pygments_lexer": "ipython3",
   "version": "3.8.8"
  }
 },
 "nbformat": 4,
 "nbformat_minor": 5
}
