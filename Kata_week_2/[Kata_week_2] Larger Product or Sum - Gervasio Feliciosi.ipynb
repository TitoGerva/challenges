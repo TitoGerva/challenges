{
 "cells": [
  {
   "cell_type": "code",
   "execution_count": 18,
   "id": "bce4f05b",
   "metadata": {},
   "outputs": [],
   "source": [
    "import math"
   ]
  },
  {
   "cell_type": "code",
   "execution_count": 19,
   "id": "405ce9ac",
   "metadata": {},
   "outputs": [],
   "source": [
    "#def sum_or_product(array, n):\n",
    "    "
   ]
  },
  {
   "cell_type": "code",
   "execution_count": 20,
   "id": "ef40a68b",
   "metadata": {},
   "outputs": [],
   "source": [
    "#sum_or_product=([10, 41, 8, 16, 20, 36, 9, 13, 20],3)\n",
    "n= 3"
   ]
  },
  {
   "cell_type": "code",
   "execution_count": 21,
   "id": "1eaea02b",
   "metadata": {},
   "outputs": [
    {
     "name": "stdout",
     "output_type": "stream",
     "text": [
      "[8, 9, 10, 13, 16, 20, 20, 36, 41]\n"
     ]
    }
   ],
   "source": [
    "array=([10, 41, 8, 16, 20, 36, 9, 13, 20])\n",
    "print(sum_or_product)"
   ]
  },
  {
   "cell_type": "code",
   "execution_count": 22,
   "id": "bde0311a",
   "metadata": {},
   "outputs": [
    {
     "name": "stdout",
     "output_type": "stream",
     "text": [
      "[8, 9, 10, 13, 16, 20, 20, 36, 41]\n"
     ]
    }
   ],
   "source": [
    "array.sort()\n",
    "print(array)"
   ]
  },
  {
   "cell_type": "code",
   "execution_count": 28,
   "id": "2ed4815c",
   "metadata": {},
   "outputs": [
    {
     "name": "stdout",
     "output_type": "stream",
     "text": [
      "98\n"
     ]
    }
   ],
   "source": [
    "sum_of_digits = array[-n:]\n",
    "sum=1\n",
    "for number in sum_of_digits:\n",
    "    sum+=number\n",
    "print(sum)"
   ]
  },
  {
   "cell_type": "code",
   "execution_count": 29,
   "id": "14618a1f",
   "metadata": {},
   "outputs": [
    {
     "name": "stdout",
     "output_type": "stream",
     "text": [
      "0\n"
     ]
    }
   ],
   "source": [
    "product_of_digits = array[0:n]\n",
    "product=0\n",
    "for number in product_of_digits:\n",
    "    product*=number\n",
    "print(product)"
   ]
  },
  {
   "cell_type": "code",
   "execution_count": 30,
   "id": "4eeb8ecb",
   "metadata": {
    "scrolled": true
   },
   "outputs": [
    {
     "name": "stdout",
     "output_type": "stream",
     "text": [
      "Sum\n"
     ]
    }
   ],
   "source": [
    "if sum>product:\n",
    "    print (\"Sum\") #If its not in a function must use PRINT, no RETURN\n",
    "elif sum<product:\n",
    "    print (\"Product\")\n",
    "else:\n",
    "    print(\"Same\")"
   ]
  },
  {
   "cell_type": "code",
   "execution_count": 31,
   "id": "43d27bfd",
   "metadata": {},
   "outputs": [],
   "source": [
    "def sum_or_product(array, n):\n",
    "    array.sort()\n",
    "    sum_of_digits=array[-n:]\n",
    "    product_of_digits=array[:n]\n",
    "    sum=0\n",
    "    for number in sum_of_digits:\n",
    "        sum+=number\n",
    "    product=1\n",
    "    for number in product_of_digits:\n",
    "        product*=number\n",
    "    if sum>product:\n",
    "        return(\"sum\")\n",
    "    elif product>sum:\n",
    "        return(\"product\")\n",
    "    else:\n",
    "        return(\"same\")"
   ]
  },
  {
   "cell_type": "code",
   "execution_count": null,
   "id": "30e7fde8",
   "metadata": {},
   "outputs": [],
   "source": []
  }
 ],
 "metadata": {
  "kernelspec": {
   "display_name": "Python [conda env:jp_env] *",
   "language": "python",
   "name": "conda-env-jp_env-py"
  },
  "language_info": {
   "codemirror_mode": {
    "name": "ipython",
    "version": 3
   },
   "file_extension": ".py",
   "mimetype": "text/x-python",
   "name": "python",
   "nbconvert_exporter": "python",
   "pygments_lexer": "ipython3",
   "version": "3.7.11"
  }
 },
 "nbformat": 4,
 "nbformat_minor": 5
}
